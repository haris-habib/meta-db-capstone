{
 "cells": [
  {
   "cell_type": "code",
   "execution_count": 1,
   "id": "f51db874-2328-4698-9c64-d9c21cd6d956",
   "metadata": {},
   "outputs": [],
   "source": [
    "import mysql.connector as connector"
   ]
  },
  {
   "cell_type": "code",
   "execution_count": 3,
   "id": "302f0676-f67c-4d93-9c96-17348c5152b5",
   "metadata": {},
   "outputs": [],
   "source": [
    "connection = connector.connect(user = \"haris\" , password = \"intrepid@18\" , db = \"little_lemon_db\")"
   ]
  },
  {
   "cell_type": "code",
   "execution_count": 4,
   "id": "17dc036d-019f-46e0-927d-36989f72dfc6",
   "metadata": {},
   "outputs": [],
   "source": [
    "cursor = connection.cursor()"
   ]
  },
  {
   "cell_type": "code",
   "execution_count": 13,
   "id": "f58d2cc4-5bfc-407b-8141-f3526008d830",
   "metadata": {},
   "outputs": [],
   "source": [
    "query = \"SHOW TABLES;\"\n",
    "cursor.execute(query)"
   ]
  },
  {
   "cell_type": "code",
   "execution_count": 14,
   "id": "c6542caa-1706-40ec-b464-327f43b49a2a",
   "metadata": {},
   "outputs": [
    {
     "data": {
      "text/plain": [
       "[('bookings',),\n",
       " ('customers',),\n",
       " ('meal_type',),\n",
       " ('menu_type',),\n",
       " ('menus',),\n",
       " ('order_status',),\n",
       " ('orders',),\n",
       " ('ordersview',),\n",
       " ('staff',),\n",
       " ('tables',)]"
      ]
     },
     "execution_count": 14,
     "metadata": {},
     "output_type": "execute_result"
    }
   ],
   "source": [
    "cursor.fetchall()"
   ]
  },
  {
   "cell_type": "code",
   "execution_count": 17,
   "id": "03a3e030-d1ad-49f1-8eb3-7508fab6bf31",
   "metadata": {},
   "outputs": [],
   "source": [
    "query = \"\"\"SELECT c.customer_id , CONCAT(c.first_name , \" \" , c.last_name) as \"full name\" , o.order_id , o.quantity*m.price as sales, m.name , t.name \n",
    "FROM customers as c \n",
    "INNER JOIN bookings as b ON b.customer_id = c.customer_id\n",
    "INNER JOIN tables as tb ON b.table_id = tb.table_id\n",
    "INNER JOIN orders as o on b.booking_id= o.booking_id\n",
    "INNER JOIN menus as m on o.item_id = m.item_id\n",
    "INNER JOIN meal_type as t on m.type_id = t.type_id \n",
    "WHERE o.quantity*m.price > 10;\"\"\"\n",
    " "
   ]
  },
  {
   "cell_type": "code",
   "execution_count": 18,
   "id": "94f1a77b-4691-48fe-ab16-e051a5f45f21",
   "metadata": {},
   "outputs": [
    {
     "name": "stdout",
     "output_type": "stream",
     "text": [
      "(1, 'John Doe', 1, Decimal('17.98'), 'Pancakes', 'Vegetarian')\n",
      "(7, 'Ethan Miller', 4, Decimal('31.98'), 'Chicken Curry', 'Non-veg')\n",
      "(4, 'Emily Davis', 7, Decimal('10.99'), 'Caesar Salad', 'Vegan')\n",
      "(9, 'Daniel Taylor', 5, Decimal('12.99'), 'Veggie Burger', 'Non-veg')\n",
      "(6, 'Olivia Brown', 8, Decimal('29.98'), 'Margherita Pizza', 'Non-veg')\n",
      "(5, 'Michael Wilson', 3, Decimal('35.97'), 'Tofu Stir-fry', 'Vegan')\n",
      "(2, 'Jane Smith', 6, Decimal('35.98'), 'Shrimp Scampi', 'Non-veg')\n",
      "(10, 'Sophia Anderson', 10, Decimal('59.97'), 'Sushi Combo', 'Non-veg')\n"
     ]
    }
   ],
   "source": [
    "cursor.execute(query)\n",
    "for row in cursor:\n",
    "    print(row)\n"
   ]
  },
  {
   "cell_type": "code",
   "execution_count": null,
   "id": "12222316-603a-40c1-9e59-e09dd1252e9c",
   "metadata": {},
   "outputs": [],
   "source": []
  },
  {
   "cell_type": "code",
   "execution_count": null,
   "id": "538e58a5-6c2e-459a-b106-b43bd02be3f8",
   "metadata": {},
   "outputs": [],
   "source": []
  }
 ],
 "metadata": {
  "kernelspec": {
   "display_name": "Python 3 (ipykernel)",
   "language": "python",
   "name": "python3"
  },
  "language_info": {
   "codemirror_mode": {
    "name": "ipython",
    "version": 3
   },
   "file_extension": ".py",
   "mimetype": "text/x-python",
   "name": "python",
   "nbconvert_exporter": "python",
   "pygments_lexer": "ipython3",
   "version": "3.12.1"
  }
 },
 "nbformat": 4,
 "nbformat_minor": 5
}
